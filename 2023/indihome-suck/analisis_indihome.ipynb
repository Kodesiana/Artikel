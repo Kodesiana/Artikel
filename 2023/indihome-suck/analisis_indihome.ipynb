{
 "cells": [
  {
   "attachments": {},
   "cell_type": "markdown",
   "metadata": {},
   "source": [
    "fsdfsdf"
   ]
  },
  {
   "attachments": {},
   "cell_type": "markdown",
   "metadata": {},
   "source": [
    "## Data Download"
   ]
  },
  {
   "cell_type": "code",
   "execution_count": 166,
   "metadata": {},
   "outputs": [],
   "source": [
    "import requests\n",
    "import pandas as pd"
   ]
  },
  {
   "cell_type": "code",
   "execution_count": 167,
   "metadata": {},
   "outputs": [],
   "source": [
    "BASE_URL = \"http://10.20.20.102:8005\"\n",
    "TIME_RANGE = \"30d\""
   ]
  },
  {
   "cell_type": "code",
   "execution_count": 168,
   "metadata": {},
   "outputs": [],
   "source": [
    "def load_metrics(metric_name: str, range: str):\n",
    "    # load from prometheus API\n",
    "    url = f\"{BASE_URL}/api/v1/query?query={metric_name}[{range}]\"\n",
    "    response = requests.get(url)\n",
    "    if response.status_code != 200:\n",
    "        return None\n",
    "    \n",
    "    # load into pandas dataframe\n",
    "    data = response.json()['data']['result'][0]['values']\n",
    "    df = pd.DataFrame(data, columns=['timestamp', 'value'])\n",
    "\n",
    "    # parse datetime\n",
    "    df[\"timestamp\"] = pd.to_datetime(df[\"timestamp\"], unit='s', utc=True)\n",
    "    df[\"value\"] = df[\"value\"].astype(float)\n",
    "    df = df.assign(name=metric_name)\n",
    "\n",
    "    return df"
   ]
  },
  {
   "cell_type": "code",
   "execution_count": 169,
   "metadata": {},
   "outputs": [],
   "source": [
    "# download from prometheus\n",
    "download_speed = load_metrics('speedtest_download_bits_per_second', TIME_RANGE)\n",
    "upload_speed   = load_metrics('speedtest_upload_bits_per_second', TIME_RANGE)\n",
    "\n",
    "# create single dataframe\n",
    "df = pd.concat([download_speed, upload_speed])"
   ]
  },
  {
   "cell_type": "code",
   "execution_count": 170,
   "metadata": {},
   "outputs": [
    {
     "data": {
      "text/html": [
       "<div>\n",
       "<style scoped>\n",
       "    .dataframe tbody tr th:only-of-type {\n",
       "        vertical-align: middle;\n",
       "    }\n",
       "\n",
       "    .dataframe tbody tr th {\n",
       "        vertical-align: top;\n",
       "    }\n",
       "\n",
       "    .dataframe thead th {\n",
       "        text-align: right;\n",
       "    }\n",
       "</style>\n",
       "<table border=\"1\" class=\"dataframe\">\n",
       "  <thead>\n",
       "    <tr style=\"text-align: right;\">\n",
       "      <th></th>\n",
       "      <th>timestamp</th>\n",
       "      <th>value</th>\n",
       "      <th>name</th>\n",
       "    </tr>\n",
       "  </thead>\n",
       "  <tbody>\n",
       "    <tr>\n",
       "      <th>0</th>\n",
       "      <td>2023-05-01 04:40:46.320000+00:00</td>\n",
       "      <td>24199472.0</td>\n",
       "      <td>speedtest_download_bits_per_second</td>\n",
       "    </tr>\n",
       "    <tr>\n",
       "      <th>1</th>\n",
       "      <td>2023-05-01 05:40:46.321000192+00:00</td>\n",
       "      <td>22518976.0</td>\n",
       "      <td>speedtest_download_bits_per_second</td>\n",
       "    </tr>\n",
       "    <tr>\n",
       "      <th>2</th>\n",
       "      <td>2023-05-01 06:40:46.321000192+00:00</td>\n",
       "      <td>24287568.0</td>\n",
       "      <td>speedtest_download_bits_per_second</td>\n",
       "    </tr>\n",
       "    <tr>\n",
       "      <th>3</th>\n",
       "      <td>2023-05-01 07:40:46.321000192+00:00</td>\n",
       "      <td>24375656.0</td>\n",
       "      <td>speedtest_download_bits_per_second</td>\n",
       "    </tr>\n",
       "    <tr>\n",
       "      <th>4</th>\n",
       "      <td>2023-05-01 08:40:46.321000192+00:00</td>\n",
       "      <td>23379304.0</td>\n",
       "      <td>speedtest_download_bits_per_second</td>\n",
       "    </tr>\n",
       "  </tbody>\n",
       "</table>\n",
       "</div>"
      ],
      "text/plain": [
       "                            timestamp       value   \n",
       "0    2023-05-01 04:40:46.320000+00:00  24199472.0  \\\n",
       "1 2023-05-01 05:40:46.321000192+00:00  22518976.0   \n",
       "2 2023-05-01 06:40:46.321000192+00:00  24287568.0   \n",
       "3 2023-05-01 07:40:46.321000192+00:00  24375656.0   \n",
       "4 2023-05-01 08:40:46.321000192+00:00  23379304.0   \n",
       "\n",
       "                                 name  \n",
       "0  speedtest_download_bits_per_second  \n",
       "1  speedtest_download_bits_per_second  \n",
       "2  speedtest_download_bits_per_second  \n",
       "3  speedtest_download_bits_per_second  \n",
       "4  speedtest_download_bits_per_second  "
      ]
     },
     "execution_count": 170,
     "metadata": {},
     "output_type": "execute_result"
    }
   ],
   "source": [
    "df.head()"
   ]
  },
  {
   "cell_type": "code",
   "execution_count": 171,
   "metadata": {},
   "outputs": [],
   "source": [
    "# convert to Jakarta timezone\n",
    "df[\"timestamp\"] = df[\"timestamp\"].dt.tz_convert('Asia/Jakarta')\n",
    "df[\"timestamp\"] = pd.to_datetime(df[\"timestamp\"].dt.strftime('%Y-%m-%d %H:00'))\n",
    "\n",
    "# convert bps to Mbps\n",
    "df[\"value\"] = df[\"value\"] / 1000000\n",
    "\n",
    "# limit to 2023-05-14\n",
    "df = df[df[\"timestamp\"] < \"2023-05-15\"]"
   ]
  },
  {
   "cell_type": "code",
   "execution_count": 172,
   "metadata": {},
   "outputs": [],
   "source": [
    "# save\n",
    "df.to_csv(\"indihome_raw.csv\", index=None)"
   ]
  },
  {
   "attachments": {},
   "cell_type": "markdown",
   "metadata": {},
   "source": [
    "## Visualisasi"
   ]
  },
  {
   "cell_type": "code",
   "execution_count": 173,
   "metadata": {},
   "outputs": [],
   "source": [
    "import matplotlib.pyplot as plt\n",
    "plt.style.use(\"ggplot\")"
   ]
  },
  {
   "cell_type": "code",
   "execution_count": 174,
   "metadata": {},
   "outputs": [
    {
     "data": {
      "text/html": [
       "<div>\n",
       "<style scoped>\n",
       "    .dataframe tbody tr th:only-of-type {\n",
       "        vertical-align: middle;\n",
       "    }\n",
       "\n",
       "    .dataframe tbody tr th {\n",
       "        vertical-align: top;\n",
       "    }\n",
       "\n",
       "    .dataframe thead th {\n",
       "        text-align: right;\n",
       "    }\n",
       "</style>\n",
       "<table border=\"1\" class=\"dataframe\">\n",
       "  <thead>\n",
       "    <tr style=\"text-align: right;\">\n",
       "      <th>name</th>\n",
       "      <th>speedtest_download_bits_per_second</th>\n",
       "      <th>speedtest_upload_bits_per_second</th>\n",
       "      <th>All</th>\n",
       "    </tr>\n",
       "    <tr>\n",
       "      <th>timestamp</th>\n",
       "      <th></th>\n",
       "      <th></th>\n",
       "      <th></th>\n",
       "    </tr>\n",
       "  </thead>\n",
       "  <tbody>\n",
       "    <tr>\n",
       "      <th>2023-05-01 11:00:00</th>\n",
       "      <td>24.199472</td>\n",
       "      <td>10.272168</td>\n",
       "      <td>17.235820</td>\n",
       "    </tr>\n",
       "    <tr>\n",
       "      <th>2023-05-01 12:00:00</th>\n",
       "      <td>22.518976</td>\n",
       "      <td>10.386192</td>\n",
       "      <td>16.452584</td>\n",
       "    </tr>\n",
       "    <tr>\n",
       "      <th>2023-05-01 13:00:00</th>\n",
       "      <td>24.287568</td>\n",
       "      <td>10.304112</td>\n",
       "      <td>17.295840</td>\n",
       "    </tr>\n",
       "    <tr>\n",
       "      <th>2023-05-01 14:00:00</th>\n",
       "      <td>24.375656</td>\n",
       "      <td>10.465504</td>\n",
       "      <td>17.420580</td>\n",
       "    </tr>\n",
       "    <tr>\n",
       "      <th>2023-05-01 15:00:00</th>\n",
       "      <td>23.379304</td>\n",
       "      <td>10.662784</td>\n",
       "      <td>17.021044</td>\n",
       "    </tr>\n",
       "    <tr>\n",
       "      <th>...</th>\n",
       "      <td>...</td>\n",
       "      <td>...</td>\n",
       "      <td>...</td>\n",
       "    </tr>\n",
       "    <tr>\n",
       "      <th>2023-05-14 20:00:00</th>\n",
       "      <td>23.547544</td>\n",
       "      <td>10.194136</td>\n",
       "      <td>16.870840</td>\n",
       "    </tr>\n",
       "    <tr>\n",
       "      <th>2023-05-14 21:00:00</th>\n",
       "      <td>23.837776</td>\n",
       "      <td>10.339824</td>\n",
       "      <td>17.088800</td>\n",
       "    </tr>\n",
       "    <tr>\n",
       "      <th>2023-05-14 22:00:00</th>\n",
       "      <td>14.726208</td>\n",
       "      <td>10.345608</td>\n",
       "      <td>12.535908</td>\n",
       "    </tr>\n",
       "    <tr>\n",
       "      <th>2023-05-14 23:00:00</th>\n",
       "      <td>22.682128</td>\n",
       "      <td>10.595616</td>\n",
       "      <td>16.638872</td>\n",
       "    </tr>\n",
       "    <tr>\n",
       "      <th>All</th>\n",
       "      <td>20.148925</td>\n",
       "      <td>9.736994</td>\n",
       "      <td>14.942959</td>\n",
       "    </tr>\n",
       "  </tbody>\n",
       "</table>\n",
       "<p>309 rows × 3 columns</p>\n",
       "</div>"
      ],
      "text/plain": [
       "name                 speedtest_download_bits_per_second   \n",
       "timestamp                                                 \n",
       "2023-05-01 11:00:00                           24.199472  \\\n",
       "2023-05-01 12:00:00                           22.518976   \n",
       "2023-05-01 13:00:00                           24.287568   \n",
       "2023-05-01 14:00:00                           24.375656   \n",
       "2023-05-01 15:00:00                           23.379304   \n",
       "...                                                 ...   \n",
       "2023-05-14 20:00:00                           23.547544   \n",
       "2023-05-14 21:00:00                           23.837776   \n",
       "2023-05-14 22:00:00                           14.726208   \n",
       "2023-05-14 23:00:00                           22.682128   \n",
       "All                                           20.148925   \n",
       "\n",
       "name                 speedtest_upload_bits_per_second        All  \n",
       "timestamp                                                         \n",
       "2023-05-01 11:00:00                         10.272168  17.235820  \n",
       "2023-05-01 12:00:00                         10.386192  16.452584  \n",
       "2023-05-01 13:00:00                         10.304112  17.295840  \n",
       "2023-05-01 14:00:00                         10.465504  17.420580  \n",
       "2023-05-01 15:00:00                         10.662784  17.021044  \n",
       "...                                               ...        ...  \n",
       "2023-05-14 20:00:00                         10.194136  16.870840  \n",
       "2023-05-14 21:00:00                         10.339824  17.088800  \n",
       "2023-05-14 22:00:00                         10.345608  12.535908  \n",
       "2023-05-14 23:00:00                         10.595616  16.638872  \n",
       "All                                          9.736994  14.942959  \n",
       "\n",
       "[309 rows x 3 columns]"
      ]
     },
     "execution_count": 174,
     "metadata": {},
     "output_type": "execute_result"
    }
   ],
   "source": [
    "df.pivot_table(index='timestamp', columns='name', values='value', margins=True)"
   ]
  },
  {
   "cell_type": "code",
   "execution_count": 175,
   "metadata": {},
   "outputs": [
    {
     "data": {
      "image/png": "[encoded data removed]",
      "text/plain": [
       "<Figure size 640x480 with 1 Axes>"
      ]
     },
     "metadata": {},
     "output_type": "display_data"
    }
   ],
   "source": [
    "fig, ax = plt.subplots()\n",
    "df.pivot_table(index='timestamp', columns='name', values='value').plot(title=\"Hourly internet speed\", ax=ax)\n",
    "\n",
    "ax.set_ylabel(\"Mbps\")\n",
    "ax.set_xlabel(\"Date\")\n",
    "ax.set_ylim(bottom=0)\n",
    "plt.show()"
   ]
  },
  {
   "cell_type": "code",
   "execution_count": 176,
   "metadata": {},
   "outputs": [
    {
     "data": {
      "text/html": [
       "<div>\n",
       "<style scoped>\n",
       "    .dataframe tbody tr th:only-of-type {\n",
       "        vertical-align: middle;\n",
       "    }\n",
       "\n",
       "    .dataframe tbody tr th {\n",
       "        vertical-align: top;\n",
       "    }\n",
       "\n",
       "    .dataframe thead th {\n",
       "        text-align: right;\n",
       "    }\n",
       "</style>\n",
       "<table border=\"1\" class=\"dataframe\">\n",
       "  <thead>\n",
       "    <tr style=\"text-align: right;\">\n",
       "      <th>name</th>\n",
       "      <th>download_mbps</th>\n",
       "      <th>upload_mbps</th>\n",
       "    </tr>\n",
       "    <tr>\n",
       "      <th>timestamp</th>\n",
       "      <th></th>\n",
       "      <th></th>\n",
       "    </tr>\n",
       "  </thead>\n",
       "  <tbody>\n",
       "    <tr>\n",
       "      <th>2023-05-01</th>\n",
       "      <td>22.993512</td>\n",
       "      <td>10.393680</td>\n",
       "    </tr>\n",
       "    <tr>\n",
       "      <th>2023-05-02</th>\n",
       "      <td>23.491832</td>\n",
       "      <td>10.386742</td>\n",
       "    </tr>\n",
       "    <tr>\n",
       "      <th>2023-05-03</th>\n",
       "      <td>24.076764</td>\n",
       "      <td>10.471725</td>\n",
       "    </tr>\n",
       "    <tr>\n",
       "      <th>2023-05-04</th>\n",
       "      <td>23.796836</td>\n",
       "      <td>10.451939</td>\n",
       "    </tr>\n",
       "    <tr>\n",
       "      <th>2023-05-05</th>\n",
       "      <td>24.123063</td>\n",
       "      <td>10.511218</td>\n",
       "    </tr>\n",
       "  </tbody>\n",
       "</table>\n",
       "</div>"
      ],
      "text/plain": [
       "name        download_mbps  upload_mbps\n",
       "timestamp                             \n",
       "2023-05-01      22.993512    10.393680\n",
       "2023-05-02      23.491832    10.386742\n",
       "2023-05-03      24.076764    10.471725\n",
       "2023-05-04      23.796836    10.451939\n",
       "2023-05-05      24.123063    10.511218"
      ]
     },
     "execution_count": 176,
     "metadata": {},
     "output_type": "execute_result"
    }
   ],
   "source": [
    "# drop zeros\n",
    "df_temp = df.copy()\n",
    "df_temp = df_temp[df_temp[\"value\"] > 0.0]\n",
    "\n",
    "# create pivot table\n",
    "df_pivot = df_temp.pivot_table(index='timestamp', columns='name', values='value').reset_index()\n",
    "df_pivot = df_pivot.set_index('timestamp')\n",
    "\n",
    "# rename columns\n",
    "df_pivot = df_pivot.rename(columns={\"speedtest_download_bits_per_second\": \"download_mbps\", \"speedtest_upload_bits_per_second\": \"upload_mbps\"})\n",
    "\n",
    "# resample to daily\n",
    "df_pivot = df_pivot.resample('D').mean()\n",
    "\n",
    "df_pivot.to_csv(\"indihome_daily.csv\")\n",
    "\n",
    "df_pivot.head()"
   ]
  },
  {
   "cell_type": "code",
   "execution_count": 177,
   "metadata": {},
   "outputs": [
    {
     "data": {
      "image/png": "[encoded data removed]",
      "text/plain": [
       "<Figure size 640x480 with 1 Axes>"
      ]
     },
     "metadata": {},
     "output_type": "display_data"
    }
   ],
   "source": [
    "fig, ax = plt.subplots()\n",
    "df_pivot.plot(title=\"Daily internet speed\", ax=ax)\n",
    "\n",
    "ax.set_ylabel(\"Mbps\")\n",
    "ax.set_xlabel(\"Date\")\n",
    "ax.set_ylim(bottom=0)\n",
    "plt.show()"
   ]
  },
  {
   "attachments": {},
   "cell_type": "markdown",
   "metadata": {},
   "source": [
    "## T-test"
   ]
  },
  {
   "cell_type": "code",
   "execution_count": 178,
   "metadata": {},
   "outputs": [],
   "source": [
    "from scipy import stats"
   ]
  },
  {
   "cell_type": "code",
   "execution_count": 179,
   "metadata": {},
   "outputs": [
    {
     "data": {
      "text/html": [
       "<div>\n",
       "<style scoped>\n",
       "    .dataframe tbody tr th:only-of-type {\n",
       "        vertical-align: middle;\n",
       "    }\n",
       "\n",
       "    .dataframe tbody tr th {\n",
       "        vertical-align: top;\n",
       "    }\n",
       "\n",
       "    .dataframe thead th {\n",
       "        text-align: right;\n",
       "    }\n",
       "</style>\n",
       "<table border=\"1\" class=\"dataframe\">\n",
       "  <thead>\n",
       "    <tr style=\"text-align: right;\">\n",
       "      <th>name</th>\n",
       "      <th>download_mbps</th>\n",
       "      <th>upload_mbps</th>\n",
       "    </tr>\n",
       "  </thead>\n",
       "  <tbody>\n",
       "    <tr>\n",
       "      <th>count</th>\n",
       "      <td>14.000000</td>\n",
       "      <td>14.000000</td>\n",
       "    </tr>\n",
       "    <tr>\n",
       "      <th>mean</th>\n",
       "      <td>21.505166</td>\n",
       "      <td>10.379913</td>\n",
       "    </tr>\n",
       "    <tr>\n",
       "      <th>std</th>\n",
       "      <td>2.954165</td>\n",
       "      <td>0.088968</td>\n",
       "    </tr>\n",
       "    <tr>\n",
       "      <th>min</th>\n",
       "      <td>14.483851</td>\n",
       "      <td>10.153444</td>\n",
       "    </tr>\n",
       "    <tr>\n",
       "      <th>25%</th>\n",
       "      <td>20.741366</td>\n",
       "      <td>10.359570</td>\n",
       "    </tr>\n",
       "    <tr>\n",
       "      <th>50%</th>\n",
       "      <td>22.816484</td>\n",
       "      <td>10.393733</td>\n",
       "    </tr>\n",
       "    <tr>\n",
       "      <th>75%</th>\n",
       "      <td>23.458043</td>\n",
       "      <td>10.415682</td>\n",
       "    </tr>\n",
       "    <tr>\n",
       "      <th>max</th>\n",
       "      <td>24.123063</td>\n",
       "      <td>10.511218</td>\n",
       "    </tr>\n",
       "  </tbody>\n",
       "</table>\n",
       "</div>"
      ],
      "text/plain": [
       "name   download_mbps  upload_mbps\n",
       "count      14.000000    14.000000\n",
       "mean       21.505166    10.379913\n",
       "std         2.954165     0.088968\n",
       "min        14.483851    10.153444\n",
       "25%        20.741366    10.359570\n",
       "50%        22.816484    10.393733\n",
       "75%        23.458043    10.415682\n",
       "max        24.123063    10.511218"
      ]
     },
     "execution_count": 179,
     "metadata": {},
     "output_type": "execute_result"
    }
   ],
   "source": [
    "df_pivot.describe()"
   ]
  },
  {
   "cell_type": "code",
   "execution_count": 180,
   "metadata": {},
   "outputs": [
    {
     "name": "stdout",
     "output_type": "stream",
     "text": [
      "Mean: 21.5052\n",
      "Standard deviation: 2.8467\n",
      "Sample size: 14\n",
      "Mean difference: -8.4948\n",
      "\n",
      "p-value: 0.0000\n",
      "t-statistic: -10.7593\n",
      "df: 13\n",
      "ConfidenceInterval(low=19.79948165148948, high=23.21085036715489)\n"
     ]
    }
   ],
   "source": [
    "h1_mean = 30\n",
    "samples = df_pivot['download_mbps'].values\n",
    "tstat = stats.ttest_1samp(samples, popmean=h1_mean, alternative=\"two-sided\")\n",
    "\n",
    "print(f\"Mean: {samples.mean():.4f}\")\n",
    "print(f\"Standard deviation: {samples.std():.4f}\")\n",
    "print(f\"Sample size: {len(samples)}\")\n",
    "print(f\"Mean difference: {samples.mean() - h1_mean:.4f}\")\n",
    "print(\"\")\n",
    "print(f\"p-value: {tstat.pvalue:.4f}\")\n",
    "print(f\"t-statistic: {tstat.statistic:.4f}\")\n",
    "print(f\"df: {tstat.df}\")\n",
    "print(tstat.confidence_interval(0.95))"
   ]
  },
  {
   "cell_type": "code",
   "execution_count": 181,
   "metadata": {},
   "outputs": [
    {
     "name": "stdout",
     "output_type": "stream",
     "text": [
      "Loss: 103,636.97468626936\n"
     ]
    }
   ],
   "source": [
    "monthly_bill = 366000\n",
    "loss = monthly_bill - (monthly_bill / h1_mean * samples.mean() )\n",
    "print(f\"Loss: {loss:,}\") "
   ]
  },
  {
   "attachments": {},
   "cell_type": "markdown",
   "metadata": {},
   "source": [
    "## OLS"
   ]
  },
  {
   "cell_type": "code",
   "execution_count": 182,
   "metadata": {},
   "outputs": [],
   "source": [
    "from datetime import datetime\n",
    "import seaborn as sns\n",
    "import statsmodels.formula.api as smf"
   ]
  },
  {
   "cell_type": "code",
   "execution_count": 183,
   "metadata": {},
   "outputs": [],
   "source": [
    "df_reg = df_pivot.copy().reset_index()\n",
    "largest_diff = (pd.to_datetime(datetime.now()) - df_reg[\"timestamp\"]).dt.days.max()\n",
    "\n",
    "df_reg[\"timestamp\"] = pd.to_datetime(datetime.now()) - df_reg[\"timestamp\"]\n",
    "df_reg[\"timestamp\"] = largest_diff - df_reg[\"timestamp\"].dt.days"
   ]
  },
  {
   "cell_type": "code",
   "execution_count": 184,
   "metadata": {},
   "outputs": [
    {
     "name": "stdout",
     "output_type": "stream",
     "text": [
      "                            OLS Regression Results                            \n",
      "==============================================================================\n",
      "Dep. Variable:          download_mbps   R-squared:                       0.481\n",
      "Model:                            OLS   Adj. R-squared:                  0.438\n",
      "Method:                 Least Squares   F-statistic:                     11.14\n",
      "Date:                Mon, 15 May 2023   Prob (F-statistic):            0.00592\n",
      "Time:                        15:32:26   Log-Likelihood:                -29.915\n",
      "No. Observations:                  14   AIC:                             63.83\n",
      "Df Residuals:                      12   BIC:                             65.11\n",
      "Df Model:                           1                                         \n",
      "Covariance Type:            nonrobust                                         \n",
      "==============================================================================\n",
      "                 coef    std err          t      P>|t|      [0.025      0.975]\n",
      "------------------------------------------------------------------------------\n",
      "Intercept     24.6899      1.123     21.988      0.000      22.243      27.136\n",
      "timestamp     -0.4900      0.147     -3.337      0.006      -0.810      -0.170\n",
      "==============================================================================\n",
      "Omnibus:                       11.614   Durbin-Watson:                   1.714\n",
      "Prob(Omnibus):                  0.003   Jarque-Bera (JB):                7.333\n",
      "Skew:                          -1.502   Prob(JB):                       0.0256\n",
      "Kurtosis:                       4.883   Cond. No.                         14.7\n",
      "==============================================================================\n",
      "\n",
      "Notes:\n",
      "[1] Standard Errors assume that the covariance matrix of the errors is correctly specified.\n"
     ]
    },
    {
     "name": "stderr",
     "output_type": "stream",
     "text": [
      "/home/fahmi/.mambaforge/envs/ritsupi/lib/python3.11/site-packages/scipy/stats/_stats_py.py:1736: UserWarning: kurtosistest only valid for n>=20 ... continuing anyway, n=14\n",
      "  warnings.warn(\"kurtosistest only valid for n>=20 ... continuing \"\n"
     ]
    }
   ],
   "source": [
    "results = smf.ols('download_mbps ~ timestamp', data=df_reg).fit()\n",
    "print(results.summary())"
   ]
  },
  {
   "cell_type": "code",
   "execution_count": 185,
   "metadata": {},
   "outputs": [
    {
     "data": {
      "image/png": "[encoded data removed]",
      "text/plain": [
       "<Figure size 640x480 with 1 Axes>"
      ]
     },
     "metadata": {},
     "output_type": "display_data"
    }
   ],
   "source": [
    "sns.regplot(x=\"timestamp\", y=\"download_mbps\", data=df_reg)\n",
    "plt.show()"
   ]
  },
  {
   "cell_type": "code",
   "execution_count": 186,
   "metadata": {},
   "outputs": [
    {
     "data": {
      "text/html": [
       "<div>\n",
       "<style scoped>\n",
       "    .dataframe tbody tr th:only-of-type {\n",
       "        vertical-align: middle;\n",
       "    }\n",
       "\n",
       "    .dataframe tbody tr th {\n",
       "        vertical-align: top;\n",
       "    }\n",
       "\n",
       "    .dataframe thead th {\n",
       "        text-align: right;\n",
       "    }\n",
       "</style>\n",
       "<table border=\"1\" class=\"dataframe\">\n",
       "  <thead>\n",
       "    <tr style=\"text-align: right;\">\n",
       "      <th></th>\n",
       "      <th>timestamp</th>\n",
       "      <th>predicted</th>\n",
       "    </tr>\n",
       "  </thead>\n",
       "  <tbody>\n",
       "    <tr>\n",
       "      <th>0</th>\n",
       "      <td>-17</td>\n",
       "      <td>33.019246</td>\n",
       "    </tr>\n",
       "    <tr>\n",
       "      <th>1</th>\n",
       "      <td>-16</td>\n",
       "      <td>32.529285</td>\n",
       "    </tr>\n",
       "    <tr>\n",
       "      <th>2</th>\n",
       "      <td>-15</td>\n",
       "      <td>32.039324</td>\n",
       "    </tr>\n",
       "    <tr>\n",
       "      <th>3</th>\n",
       "      <td>-14</td>\n",
       "      <td>31.549363</td>\n",
       "    </tr>\n",
       "    <tr>\n",
       "      <th>4</th>\n",
       "      <td>-13</td>\n",
       "      <td>31.059403</td>\n",
       "    </tr>\n",
       "  </tbody>\n",
       "</table>\n",
       "</div>"
      ],
      "text/plain": [
       "   timestamp  predicted\n",
       "0        -17  33.019246\n",
       "1        -16  32.529285\n",
       "2        -15  32.039324\n",
       "3        -14  31.549363\n",
       "4        -13  31.059403"
      ]
     },
     "execution_count": 186,
     "metadata": {},
     "output_type": "execute_result"
    }
   ],
   "source": [
    "max_days = df_reg[\"timestamp\"].max() - 30\n",
    "df_pred = pd.DataFrame({\"timestamp\": [x for x in range(max_days, 30*5)]})\n",
    "df_pred = df_pred.assign(predicted=results.predict(df_pred))\n",
    "df_pred.head()"
   ]
  },
  {
   "cell_type": "code",
   "execution_count": 187,
   "metadata": {},
   "outputs": [],
   "source": [
    "df_all = pd.concat([\n",
    "  df_reg.drop(columns=[\"upload_mbps\"]).rename(columns={\"timestamp\": \"days\", \"download_mbps\": \"value\"}), \n",
    "  df_pred.rename(columns={\"timestamp\": \"days\", \"predicted\": \"value\"})\n",
    "])\n",
    "\n",
    "first_date = pd.to_datetime(datetime.now()) - pd.Timedelta(days=largest_diff)\n",
    "df_all[\"date\"] = df_all[\"days\"].apply(lambda d: pd.Timedelta(days=int(d)) + first_date)"
   ]
  },
  {
   "cell_type": "code",
   "execution_count": 188,
   "metadata": {},
   "outputs": [
    {
     "data": {
      "text/html": [
       "<div>\n",
       "<style scoped>\n",
       "    .dataframe tbody tr th:only-of-type {\n",
       "        vertical-align: middle;\n",
       "    }\n",
       "\n",
       "    .dataframe tbody tr th {\n",
       "        vertical-align: top;\n",
       "    }\n",
       "\n",
       "    .dataframe thead th {\n",
       "        text-align: right;\n",
       "    }\n",
       "</style>\n",
       "<table border=\"1\" class=\"dataframe\">\n",
       "  <thead>\n",
       "    <tr style=\"text-align: right;\">\n",
       "      <th></th>\n",
       "      <th>value</th>\n",
       "    </tr>\n",
       "    <tr>\n",
       "      <th>date</th>\n",
       "      <th></th>\n",
       "    </tr>\n",
       "  </thead>\n",
       "  <tbody>\n",
       "    <tr>\n",
       "      <th>2023-04-30</th>\n",
       "      <td>29.099559</td>\n",
       "    </tr>\n",
       "    <tr>\n",
       "      <th>2023-05-31</th>\n",
       "      <td>18.636173</td>\n",
       "    </tr>\n",
       "    <tr>\n",
       "      <th>2023-06-30</th>\n",
       "      <td>2.396693</td>\n",
       "    </tr>\n",
       "    <tr>\n",
       "      <th>2023-07-31</th>\n",
       "      <td>-12.547113</td>\n",
       "    </tr>\n",
       "    <tr>\n",
       "      <th>2023-08-31</th>\n",
       "      <td>-27.735899</td>\n",
       "    </tr>\n",
       "    <tr>\n",
       "      <th>2023-09-30</th>\n",
       "      <td>-41.944764</td>\n",
       "    </tr>\n",
       "  </tbody>\n",
       "</table>\n",
       "</div>"
      ],
      "text/plain": [
       "                value\n",
       "date                 \n",
       "2023-04-30  29.099559\n",
       "2023-05-31  18.636173\n",
       "2023-06-30   2.396693\n",
       "2023-07-31 -12.547113\n",
       "2023-08-31 -27.735899\n",
       "2023-09-30 -41.944764"
      ]
     },
     "execution_count": 188,
     "metadata": {},
     "output_type": "execute_result"
    }
   ],
   "source": [
    "df_all.resample(\"M\", on=\"date\").mean().drop(columns=[\"days\"])"
   ]
  },
  {
   "cell_type": "code",
   "execution_count": null,
   "metadata": {},
   "outputs": [],
   "source": []
  }
 ],
 "metadata": {
  "kernelspec": {
   "display_name": "ritsupi",
   "language": "python",
   "name": "python3"
  },
  "language_info": {
   "codemirror_mode": {
    "name": "ipython",
    "version": 3
   },
   "file_extension": ".py",
   "mimetype": "text/x-python",
   "name": "python",
   "nbconvert_exporter": "python",
   "pygments_lexer": "ipython3",
   "version": "3.11.3"
  },
  "orig_nbformat": 4
 },
 "nbformat": 4,
 "nbformat_minor": 2
}
