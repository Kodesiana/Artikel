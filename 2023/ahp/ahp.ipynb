{
 "cells": [
  {
   "cell_type": "code",
   "execution_count": 1,
   "metadata": {},
   "outputs": [],
   "source": [
    "import numpy as np"
   ]
  },
  {
   "cell_type": "code",
   "execution_count": 2,
   "metadata": {},
   "outputs": [],
   "source": [
    "ratio_index_saaty = np.array([0, 0, 0.58, 0.9, 1.12, 1.24, 1.32, 1.41, 1.46, 1.49]) "
   ]
  },
  {
   "cell_type": "code",
   "execution_count": 3,
   "metadata": {},
   "outputs": [],
   "source": [
    "# perbandinqan antar kriteria\n",
    "p_criteria = np.array([\n",
    "    [1,     1,   3,   1, 3],\n",
    "    [1,     1,   2,   1, 1],\n",
    "    [1/3, 1/2,   1,   1, 2],\n",
    "    [  1,   1,   1,   1, 3],\n",
    "    [1/3,   1, 1/2, 1/3, 1]\n",
    "])\n",
    "\n",
    "# perbandingan antar alternatif\n",
    "p_alternatives = np.array([\n",
    "    # kriteria C01\n",
    "    [\n",
    "        [  1,   3, 3],\n",
    "        [1/3,   1, 2],\n",
    "        [1/3, 1/2, 1]\n",
    "    ],\n",
    "    # kriteria C02\n",
    "    [\n",
    "        [  1,   2, 4],\n",
    "        [1/2,   1, 3],\n",
    "        [1/4, 1/3, 1]\n",
    "    ],\n",
    "    # kriteria C03\n",
    "    [\n",
    "        [  1,   2, 1],\n",
    "        [1/2,   1, 2],\n",
    "        [  1, 1/2, 1]\n",
    "    ],\n",
    "    # kriteria C04\n",
    "    [\n",
    "        [  1,   2, 3],\n",
    "        [1/2,   1, 6],\n",
    "        [1/3, 1/6, 1]\n",
    "    ],\n",
    "    # kriteria C05\n",
    "    [\n",
    "        [  1,   4, 3],\n",
    "        [1/4,   1, 2],\n",
    "        [1/3, 1/2, 1]\n",
    "    ]\n",
    "])"
   ]
  },
  {
   "cell_type": "code",
   "execution_count": 4,
   "metadata": {},
   "outputs": [
    {
     "name": "stdout",
     "output_type": "stream",
     "text": [
      "(5, 5)\n",
      "(5, 3, 3)\n"
     ]
    }
   ],
   "source": [
    "print(p_criteria.shape)\n",
    "print(p_alternatives.shape)"
   ]
  },
  {
   "cell_type": "code",
   "execution_count": 5,
   "metadata": {},
   "outputs": [
    {
     "data": {
      "text/plain": [
       "array([ 3.66666667,  4.5       ,  7.5       ,  4.33333333, 10.        ])"
      ]
     },
     "execution_count": 5,
     "metadata": {},
     "output_type": "execute_result"
    }
   ],
   "source": [
    "p_total = np.sum(p_criteria, axis=0)\n",
    "p_total"
   ]
  },
  {
   "cell_type": "code",
   "execution_count": 6,
   "metadata": {},
   "outputs": [
    {
     "data": {
      "text/plain": [
       "array([[0.27272727, 0.22222222, 0.4       , 0.23076923, 0.3       ],\n",
       "       [0.27272727, 0.22222222, 0.26666667, 0.23076923, 0.1       ],\n",
       "       [0.09090909, 0.11111111, 0.13333333, 0.23076923, 0.2       ],\n",
       "       [0.27272727, 0.22222222, 0.13333333, 0.23076923, 0.3       ],\n",
       "       [0.09090909, 0.22222222, 0.06666667, 0.07692308, 0.1       ]])"
      ]
     },
     "execution_count": 6,
     "metadata": {},
     "output_type": "execute_result"
    }
   ],
   "source": [
    "p_priority = p_criteria / p_total\n",
    "p_priority"
   ]
  },
  {
   "cell_type": "code",
   "execution_count": 7,
   "metadata": {},
   "outputs": [
    {
     "data": {
      "text/plain": [
       "array([0.28514375, 0.21847708, 0.15322455, 0.23181041, 0.11134421])"
      ]
     },
     "execution_count": 7,
     "metadata": {},
     "output_type": "execute_result"
    }
   ],
   "source": [
    "p_priority_weight = np.mean(p_priority, axis=1)\n",
    "p_priority_weight"
   ]
  },
  {
   "cell_type": "code",
   "execution_count": 8,
   "metadata": {},
   "outputs": [
    {
     "data": {
      "text/plain": [
       "array([5.36269006, 5.27846931, 5.299476  , 5.27451901, 5.19785997])"
      ]
     },
     "execution_count": 8,
     "metadata": {},
     "output_type": "execute_result"
    }
   ],
   "source": [
    "p_consistency = np.dot(p_criteria, p_priority_weight) / p_priority_weight\n",
    "p_consistency"
   ]
  },
  {
   "cell_type": "code",
   "execution_count": 9,
   "metadata": {},
   "outputs": [
    {
     "name": "stdout",
     "output_type": "stream",
     "text": [
      "0.05697638478475637\n"
     ]
    }
   ],
   "source": [
    "n = p_criteria.shape[0]\n",
    "lambda_max = np.mean(p_consistency)\n",
    "\n",
    "RI = ratio_index_saaty[n]\n",
    "CI = (lambda_max - n) / (n - 1)\n",
    "CR = CI / RI\n",
    "\n",
    "# Konsisten apabila 0 < CR < 0.1 \n",
    "print(CR)"
   ]
  },
  {
   "cell_type": "code",
   "execution_count": 10,
   "metadata": {},
   "outputs": [
    {
     "data": {
      "text/plain": [
       "array([[0.58888889, 0.55714286, 0.40714286, 0.4923445 , 0.61961722],\n",
       "       [0.25185185, 0.3202381 , 0.32857143, 0.39617225, 0.22434875],\n",
       "       [0.15925926, 0.12261905, 0.26428571, 0.11148325, 0.15603402]])"
      ]
     },
     "execution_count": 10,
     "metadata": {},
     "output_type": "execute_result"
    }
   ],
   "source": [
    "p_rank = np.array([np.mean(p_alternatives[i] / np.sum(p_alternatives[i], axis=0), axis=1) for i in range(p_alternatives.shape[0])]).T\n",
    "p_rank"
   ]
  },
  {
   "cell_type": "code",
   "execution_count": 11,
   "metadata": {},
   "outputs": [
    {
     "data": {
      "text/plain": [
       "array([0.53514658, 0.30894066, 0.15591276])"
      ]
     },
     "execution_count": 11,
     "metadata": {},
     "output_type": "execute_result"
    }
   ],
   "source": [
    "final_decision = np.dot(p_rank, p_priority_weight)\n",
    "final_decision"
   ]
  },
  {
   "cell_type": "code",
   "execution_count": 12,
   "metadata": {},
   "outputs": [
    {
     "name": "stdout",
     "output_type": "stream",
     "text": [
      "Alternatif terbaik: A01\n"
     ]
    }
   ],
   "source": [
    "print(f\"Alternatif terbaik: A0{np.argmax(final_decision) + 1}\")"
   ]
  },
  {
   "cell_type": "code",
   "execution_count": null,
   "metadata": {},
   "outputs": [],
   "source": []
  }
 ],
 "metadata": {
  "kernelspec": {
   "display_name": "agripen",
   "language": "python",
   "name": "python3"
  },
  "language_info": {
   "codemirror_mode": {
    "name": "ipython",
    "version": 3
   },
   "file_extension": ".py",
   "mimetype": "text/x-python",
   "name": "python",
   "nbconvert_exporter": "python",
   "pygments_lexer": "ipython3",
   "version": "3.11.3"
  },
  "orig_nbformat": 4
 },
 "nbformat": 4,
 "nbformat_minor": 2
}
